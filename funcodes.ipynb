{
  "nbformat": 4,
  "nbformat_minor": 0,
  "metadata": {
    "colab": {
      "name": "funcodes.ipynb",
      "provenance": [],
      "collapsed_sections": [],
      "include_colab_link": true
    },
    "kernelspec": {
      "name": "python3",
      "display_name": "Python 3"
    }
  },
  "cells": [
    {
      "cell_type": "markdown",
      "metadata": {
        "id": "view-in-github",
        "colab_type": "text"
      },
      "source": [
        "<a href=\"https://colab.research.google.com/github/Kmohamedalie/block657354/blob/main/funcodes.ipynb\" target=\"_parent\"><img src=\"https://colab.research.google.com/assets/colab-badge.svg\" alt=\"Open In Colab\"/></a>"
      ]
    },
    {
      "cell_type": "code",
      "metadata": {
        "colab": {
          "base_uri": "https://localhost:8080/"
        },
        "id": "KWl2V4Dzdft-",
        "outputId": "5457950e-fd52-467c-ebee-c54be8194f6a"
      },
      "source": [
        "#Madlib game\n",
        "\n",
        "print('Please answer the questions below')\n",
        "e2014 = input('Name of 2014 epidemic in West Africa: ')\n",
        "p2020 = input('Name of the 2020 pandemic disease: ')\n",
        "oC19 = input('Where was Covid-19 first reported: ')\n",
        "highD = input('Name of the country with highest Covid-19 deaths: ')\n",
        "euroEc = input('The first epicenter of covid-19 in  Europe: ')\n",
        "southA = input('Name of the South American country with highest deaths: ')\n",
        "robS = input('Name of police squared that totured people in Nigeria:')\n",
        "\n",
        "              #Answers in a sentence\n",
        "def Madlib():\n",
        "  print('1.' + e2014 + ' is the name of the epidemic in West Africa.')\n",
        "  print('2.' + p2020 + ' is the name of the current pandemic.')\n",
        "  print('3.' + oC19 + ' was where the first clusters of covid-19 was detected.')\n",
        "  print('4.' + highD + ' have the higest toll deaths of the coronavirus.')\n",
        "  print('5.' + euroEc + ' is the first epicenter of covid-19 in Europe.')\n",
        "  print('6.' + southA + ' is the name of the country with highest number \\n of death in South America.')\n",
        "  print('7.' + robS + ' is the name of the police Squad. #End_SARs_Now ')\n",
        "\n",
        "\n",
        "print('\\n \\n \\n')\n",
        "\n",
        "\n",
        "print('Bravo below is your MADLIB GAME!')\n",
        "print('\\n')\n",
        "Madlib()"
      ],
      "execution_count": null,
      "outputs": [
        {
          "output_type": "stream",
          "text": [
            "Please answer the questions below\n"
          ],
          "name": "stdout"
        }
      ]
    },
    {
      "cell_type": "code",
      "metadata": {
        "id": "fxQ1l9-Edl3g"
      },
      "source": [
        "#Mutiplication table code\n",
        "\n",
        "print('Multiplication Table')\n",
        "for i in range(1 ,13):\n",
        "  for j in range(1, 13):\n",
        "    print('{0} times {1} is: {2}'.format(i,j,i*j))\n",
        "  print('-----------------------')"
      ],
      "execution_count": null,
      "outputs": []
    },
    {
      "cell_type": "code",
      "metadata": {
        "id": "lithw8fDeZSS"
      },
      "source": [
        "#creating a quadractic function----------------------------------------------\n",
        "import math\n",
        "def quad(a,b,c):\n",
        "    delta = b*b - 4*a*c\n",
        "    if delta >= 0:\n",
        "        v = math.ceil((-b + math.sqrt(delta))/(2*a))\n",
        "        w = math.ceil((-b - math.sqrt(delta))/(2*a))\n",
        "        res= v , w\n",
        "    else:\n",
        "        res='Complex negative number'\n",
        "    \n",
        "    return res\n",
        "    print('The quadractic variables are: {0} & {1} repectively'.format(v,w))\n",
        "    \n",
        "\n",
        "quad(-2,1,5) #input vales for a,b c and calling the function."
      ],
      "execution_count": null,
      "outputs": []
    }
  ]
}